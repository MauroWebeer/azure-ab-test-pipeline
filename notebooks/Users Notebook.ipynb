{
 "cells": [
  {
   "cell_type": "code",
   "execution_count": 0,
   "metadata": {
    "application/vnd.databricks.v1+cell": {
     "cellMetadata": {
      "byteLimit": 2048000,
      "rowLimit": 10000
     },
     "inputWidgets": {},
     "nuid": "004b9476-a00f-450f-bedb-71ec2765adc2",
     "showTitle": false,
     "tableResultSettingsMap": {},
     "title": ""
    }
   },
   "outputs": [
    {
     "output_type": "stream",
     "name": "stdout",
     "output_type": "stream",
     "text": [
      "+-------+---------+--------------+--------------+\n|user_id|test_code|user_variation|ingestion_date|\n+-------+---------+--------------+--------------+\n|   U092|     T002|             A|    2025-05-11|\n|   U064|     T001|             A|    2025-05-11|\n|   U083|     T002|             B|    2025-05-11|\n|   U081|     T002|             A|    2025-05-11|\n|   U070|     T001|             A|    2025-05-11|\n|   U075|     T001|             A|    2025-05-11|\n|   U030|     T001|             B|    2025-05-11|\n|   U036|     T002|             B|    2025-05-11|\n|   U026|     T002|             B|    2025-05-11|\n|   U025|     T002|             B|    2025-05-11|\n|   U001|     T001|             A|    2025-05-11|\n|   U057|     T001|             A|    2025-05-11|\n|   U039|     T002|             B|    2025-05-11|\n|   U048|     T002|             A|    2025-05-11|\n|   U058|     T002|             B|    2025-05-11|\n|   U038|     T002|             B|    2025-05-11|\n|   U076|     T001|             B|    2025-05-11|\n|   U026|     T001|             A|    2025-05-11|\n|   U002|     T001|             A|    2025-05-11|\n|   U014|     T002|             B|    2025-05-11|\n+-------+---------+--------------+--------------+\nonly showing top 20 rows\n\n"
     ]
    }
   ],
   "source": [
    "from pyspark.sql.functions import col, current_date\n",
    "\n",
    "# 1. Ler a tabela de eventos (assumindo que é uma tabela gerenciada)\n",
    "df_events = spark.table(\"db_experiments.platform_events\")\n",
    "\n",
    "# 2. Selecionar e deduplicar usuários únicos por teste e variação\n",
    "df_users = df_events.select(\"user_id\", \"test_code\", \"user_variation\") \\\n",
    "    .distinct() \\\n",
    "    .withColumn(\"ingestion_date\", current_date())  # adiciona a data atual (YYYY-MM-DD)\n",
    "\n",
    "\n",
    "df_users.show()"
   ]
  },
  {
   "cell_type": "code",
   "execution_count": 0,
   "metadata": {
    "application/vnd.databricks.v1+cell": {
     "cellMetadata": {
      "byteLimit": 2048000,
      "rowLimit": 10000
     },
     "inputWidgets": {},
     "nuid": "6cc599b2-8ab9-49b2-9b7e-15526e258a00",
     "showTitle": false,
     "tableResultSettingsMap": {},
     "title": ""
    }
   },
   "outputs": [],
   "source": [
    "# 3. Inserir na tabela test_users (append)\n",
    "df_users.write.mode(\"append\").insertInto(\"db_experiments.test_users\")"
   ]
  }
 ],
 "metadata": {
  "application/vnd.databricks.v1+notebook": {
   "computePreferences": null,
   "dashboards": [],
   "environmentMetadata": {
    "base_environment": "",
    "environment_version": "2"
   },
   "inputWidgetPreferences": null,
   "language": "python",
   "notebookMetadata": {
    "pythonIndentUnit": 4
   },
   "notebookName": "Users Notebook",
   "widgets": {}
  },
  "language_info": {
   "name": "python"
  }
 },
 "nbformat": 4,
 "nbformat_minor": 0
}