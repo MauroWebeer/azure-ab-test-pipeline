{
 "cells": [
  {
   "cell_type": "code",
   "execution_count": 0,
   "metadata": {
    "application/vnd.databricks.v1+cell": {
     "cellMetadata": {
      "byteLimit": 2048000,
      "rowLimit": 10000
     },
     "inputWidgets": {},
     "nuid": "05ca95a2-2fb1-4b52-bda9-a0ebecfb8ae6",
     "showTitle": false,
     "tableResultSettingsMap": {},
     "title": ""
    }
   },
   "outputs": [
    {
     "output_type": "stream",
     "name": "stdout",
     "output_type": "stream",
     "text": [
      "+---------+--------------------+-------------------+-----------+-----------+---------------+\n|test_code|           test_name|         created_at|finished_at|test_status|     owner_name|\n+---------+--------------------+-------------------+-----------+-----------+---------------+\n|     T005|Teste de Integraç...|2025-05-11 19:00:00|       NULL|          4|Ricardo Almeida|\n+---------+--------------------+-------------------+-----------+-----------+---------------+\n\n"
     ]
    }
   ],
   "source": [
    "from datetime import datetime\n",
    "\n",
    "\n",
    "# Get today's date\n",
    "today_str = datetime.today().strftime(\"%Y-%m-%d\")\n",
    "\n",
    "df_test_mgmt = spark.read.parquet(\n",
    "    f\"abfss://ab-test-platform-data@abtestplatform.dfs.core.windows.net/test_management/date={today_str}/\"\n",
    ")\n",
    "\n",
    "df_test_mgmt = df_test_mgmt.filter(df_test_mgmt.test_status == 4)\n",
    "\n",
    "df_test_mgmt.show()\n"
   ]
  },
  {
   "cell_type": "code",
   "execution_count": 0,
   "metadata": {
    "application/vnd.databricks.v1+cell": {
     "cellMetadata": {
      "byteLimit": 2048000,
      "rowLimit": 10000
     },
     "inputWidgets": {},
     "nuid": "2d53f7e1-c4fd-4990-b643-dd04d15b40f6",
     "showTitle": false,
     "tableResultSettingsMap": {},
     "title": ""
    }
   },
   "outputs": [
    {
     "output_type": "stream",
     "name": "stdout",
     "output_type": "stream",
     "text": [
      "+----------------+---------------------+-------------------+\n|test_metric_code|metric_code_ambiguous|test_code_ambiguous|\n+----------------+---------------------+-------------------+\n|               1|                 M001|               T004|\n|               2|                 M002|               T005|\n+----------------+---------------------+-------------------+\n\n"
     ]
    }
   ],
   "source": [
    "df_test_metrics = spark.read.parquet(\n",
    "    f\"abfss://ab-test-platform-data@abtestplatform.dfs.core.windows.net/test_metric_relation/date={today_str}/\"\n",
    ")\n",
    "\n",
    "df_test_metrics_new = df_test_metrics \\\n",
    "    .withColumn(\"metric_code_ambiguous\", df_test_metrics[\"metric_code\"]) \\\n",
    "        .withColumn(\"test_code_ambiguous\", df_test_metrics[\"test_code\"])\n",
    "\n",
    "df_test_metrics_new = df_test_metrics_new.drop(\"metric_code\")\n",
    "df_test_metrics_new = df_test_metrics_new.drop(\"test_code\")\n",
    "\n",
    "df_test_metrics_new.show()"
   ]
  },
  {
   "cell_type": "code",
   "execution_count": 0,
   "metadata": {
    "application/vnd.databricks.v1+cell": {
     "cellMetadata": {
      "byteLimit": 2048000,
      "rowLimit": 10000
     },
     "inputWidgets": {},
     "nuid": "f3f8333c-1496-436b-862e-51fe4c369707",
     "showTitle": false,
     "tableResultSettingsMap": {},
     "title": ""
    }
   },
   "outputs": [
    {
     "output_type": "stream",
     "name": "stdout",
     "output_type": "stream",
     "text": [
      "+-----------+----------------+-----------------------------------------------------------------------------------------------------------------------------------------------------+\n|metric_code|metric_name     |metric_query                                                                                                                                         |\n+-----------+----------------+-----------------------------------------------------------------------------------------------------------------------------------------------------+\n|M001       |Total de cliques|{\"query\": \"SELECT test_code, user_variation, COUNT(user_id) as value FROM table WHERE event_name = 'click' GROUP BY test_code, user_variation\"}      |\n|M002       |Total de views  |{\"query\": \"SELECT test_code, user_variation, COUNT(user_id) as value FROM table WHERE event_name = 'screen_view' GROUP BY test_code, user_variation\"}|\n+-----------+----------------+-----------------------------------------------------------------------------------------------------------------------------------------------------+\n\n"
     ]
    }
   ],
   "source": [
    "df_metric_mgmt = spark.read.parquet(\n",
    "    f\"abfss://ab-test-platform-data@abtestplatform.dfs.core.windows.net/metric_management/date={today_str}/\"\n",
    ")\n",
    "\n",
    "df_metric_mgmt.show(truncate=False)"
   ]
  },
  {
   "cell_type": "code",
   "execution_count": 0,
   "metadata": {
    "application/vnd.databricks.v1+cell": {
     "cellMetadata": {
      "byteLimit": 2048000,
      "rowLimit": 10000
     },
     "inputWidgets": {},
     "nuid": "1d4b8fd4-b8a6-45cf-833e-976d4e7fd9d1",
     "showTitle": false,
     "tableResultSettingsMap": {},
     "title": ""
    }
   },
   "outputs": [
    {
     "output_type": "stream",
     "name": "stdout",
     "output_type": "stream",
     "text": [
      "+---------+--------------------+-------------------+-----------+-----------+---------------+----------------+---------------------+-------------------+\n|test_code|           test_name|         created_at|finished_at|test_status|     owner_name|test_metric_code|metric_code_ambiguous|test_code_ambiguous|\n+---------+--------------------+-------------------+-----------+-----------+---------------+----------------+---------------------+-------------------+\n|     T005|Teste de Integraç...|2025-05-11 19:00:00|       NULL|          4|Ricardo Almeida|               2|                 M002|               T005|\n+---------+--------------------+-------------------+-----------+-----------+---------------+----------------+---------------------+-------------------+\n\n"
     ]
    }
   ],
   "source": [
    "# Unir df_test_mgmt com df_test_metrics\n",
    "df_joined_test_metrics = df_test_mgmt.join(\n",
    "    df_test_metrics_new, \n",
    "    df_test_mgmt.test_code == df_test_metrics_new.test_code_ambiguous, \n",
    "    \"left\"\n",
    ")\n",
    "\n",
    "df_joined_test_metrics.show()\n",
    "\n",
    "\n"
   ]
  },
  {
   "cell_type": "code",
   "execution_count": 0,
   "metadata": {
    "application/vnd.databricks.v1+cell": {
     "cellMetadata": {
      "byteLimit": 2048000,
      "rowLimit": 10000
     },
     "inputWidgets": {},
     "nuid": "74737702-2b1f-40e0-91e9-001319526f74",
     "showTitle": false,
     "tableResultSettingsMap": {},
     "title": ""
    }
   },
   "outputs": [
    {
     "output_type": "stream",
     "name": "stdout",
     "output_type": "stream",
     "text": [
      "+---------+--------------------+-------------------+-----------+-----------+---------------+----------------+---------------------+-------------------+-----------+--------------+--------------------+\n|test_code|           test_name|         created_at|finished_at|test_status|     owner_name|test_metric_code|metric_code_ambiguous|test_code_ambiguous|metric_code|   metric_name|        metric_query|\n+---------+--------------------+-------------------+-----------+-----------+---------------+----------------+---------------------+-------------------+-----------+--------------+--------------------+\n|     T005|Teste de Integraç...|2025-05-11 19:00:00|       NULL|          4|Ricardo Almeida|               2|                 M002|               T005|       M002|Total de views|{\"query\": \"SELECT...|\n+---------+--------------------+-------------------+-----------+-----------+---------------+----------------+---------------------+-------------------+-----------+--------------+--------------------+\n\n"
     ]
    }
   ],
   "source": [
    "# Unir o resultado anterior com df_metric_mgmt\n",
    "df_final = df_joined_test_metrics.join(\n",
    "    df_metric_mgmt, \n",
    "    df_joined_test_metrics.metric_code_ambiguous == df_metric_mgmt.metric_code, \n",
    "    \"left\"\n",
    ")\n",
    "\n",
    "df_final.show()"
   ]
  },
  {
   "cell_type": "code",
   "execution_count": 0,
   "metadata": {
    "application/vnd.databricks.v1+cell": {
     "cellMetadata": {
      "byteLimit": 2048000,
      "rowLimit": 10000
     },
     "inputWidgets": {},
     "nuid": "88760cba-f960-4159-a18b-f69ff06541f9",
     "showTitle": false,
     "tableResultSettingsMap": {},
     "title": ""
    }
   },
   "outputs": [
    {
     "output_type": "stream",
     "name": "stdout",
     "output_type": "stream",
     "text": [
      "+---------+----------------+-----------+--------------+--------------------+\n|test_code|test_metric_code|metric_code|   metric_name|        metric_query|\n+---------+----------------+-----------+--------------+--------------------+\n|     T005|               2|       M002|Total de views|{\"query\": \"SELECT...|\n+---------+----------------+-----------+--------------+--------------------+\n\n+---------+----------------+-----------+--------------+--------------------+\n|test_code|test_metric_code|metric_code|   metric_name|        metric_query|\n+---------+----------------+-----------+--------------+--------------------+\n|     T002|               2|       M002|Total de views|{\"query\": \"SELECT...|\n+---------+----------------+-----------+--------------+--------------------+\n\n"
     ]
    }
   ],
   "source": [
    "# Selecionar as colunas desejadas\n",
    "df_result = df_final.select(\n",
    "    \"test_code\", \n",
    "    \"test_metric_code\", \n",
    "    \"metric_code\", \n",
    "    \"metric_name\", \n",
    "    \"metric_query\"\n",
    ")\n",
    "\n",
    "# Mostrar o resultado\n",
    "df_result.show()"
   ]
  },
  {
   "cell_type": "code",
   "execution_count": 0,
   "metadata": {
    "application/vnd.databricks.v1+cell": {
     "cellMetadata": {
      "byteLimit": 2048000,
      "rowLimit": 10000
     },
     "inputWidgets": {},
     "nuid": "a9dce598-d9df-44fe-a867-b94f45822b09",
     "showTitle": false,
     "tableResultSettingsMap": {},
     "title": ""
    }
   },
   "outputs": [
    {
     "output_type": "stream",
     "name": "stdout",
     "output_type": "stream",
     "text": [
      "+-------+---------+--------------+--------------+\n|user_id|test_code|user_variation|ingestion_date|\n+-------+---------+--------------+--------------+\n|   U092|     T002|             A|    2025-05-11|\n|   U064|     T001|             A|    2025-05-11|\n|   U083|     T002|             B|    2025-05-11|\n|   U081|     T002|             A|    2025-05-11|\n|   U070|     T001|             A|    2025-05-11|\n|   U075|     T001|             A|    2025-05-11|\n|   U030|     T001|             B|    2025-05-11|\n|   U036|     T002|             B|    2025-05-11|\n|   U026|     T002|             B|    2025-05-11|\n|   U025|     T002|             B|    2025-05-11|\n|   U001|     T001|             A|    2025-05-11|\n|   U057|     T001|             A|    2025-05-11|\n|   U039|     T002|             B|    2025-05-11|\n|   U048|     T002|             A|    2025-05-11|\n|   U058|     T002|             B|    2025-05-11|\n|   U038|     T002|             B|    2025-05-11|\n|   U076|     T001|             B|    2025-05-11|\n|   U026|     T001|             A|    2025-05-11|\n|   U002|     T001|             A|    2025-05-11|\n|   U014|     T002|             B|    2025-05-11|\n+-------+---------+--------------+--------------+\nonly showing top 20 rows\n\n"
     ]
    }
   ],
   "source": [
    "test_users = spark.table(\"db_experiments.test_users\")\n",
    "\n",
    "test_users.show()\n",
    "\n"
   ]
  },
  {
   "cell_type": "code",
   "execution_count": 0,
   "metadata": {
    "application/vnd.databricks.v1+cell": {
     "cellMetadata": {
      "byteLimit": 2048000,
      "rowLimit": 10000
     },
     "inputWidgets": {},
     "nuid": "015e389b-336f-4217-a1c8-a3f2c3cc99ff",
     "showTitle": false,
     "tableResultSettingsMap": {},
     "title": ""
    }
   },
   "outputs": [
    {
     "output_type": "stream",
     "name": "stdout",
     "output_type": "stream",
     "text": [
      "+--------------------+-------+-------------------+-----------+----------+------------+----------+\n|            event_id|user_id|         event_time| event_name|event_path|event_device|event_date|\n+--------------------+-------+-------------------+-----------+----------+------------+----------+\n|464d04b6-1e59-4d3...|   U010|2025-05-09 04:07:10|     scroll| /purchase|      mobile|2025-05-09|\n|23a6f7b6-dbe1-4a8...|   U002|2025-05-11 10:39:10|      click|     /home|      mobile|2025-05-11|\n|a29693a3-52e9-43f...|   U019|2025-05-10 02:09:10|screen_view|    /login|     desktop|2025-05-10|\n|64fd4e85-cab4-4ae...|   U033|2025-05-10 17:41:10|screen_view|     /home|     desktop|2025-05-10|\n|fdf3154a-02b6-42e...|   U099|2025-05-08 23:54:10|      click|     /cart|     desktop|2025-05-08|\n|e5feaa2b-3317-4ba...|   U015|2025-05-10 10:45:10|     scroll| /purchase|     desktop|2025-05-10|\n|09f276e8-fa17-48e...|   U077|2025-05-08 21:28:10|     scroll|     /home|     desktop|2025-05-08|\n|1ec9cedb-65ee-40d...|   U049|2025-05-10 02:22:10|     scroll|     /cart|     desktop|2025-05-10|\n|55b85090-2521-4ad...|   U055|2025-05-10 15:57:10|      click|  /product|     desktop|2025-05-10|\n|d01acafd-d6ff-4bf...|   U087|2025-05-09 16:23:10|     scroll|     /cart|      mobile|2025-05-09|\n|154190e8-bd5b-4a9...|   U094|2025-05-09 20:42:10|      click|     /cart|      mobile|2025-05-09|\n|b2bb7029-884c-46e...|   U051|2025-05-09 01:58:10|      click|    /login|     desktop|2025-05-09|\n|ec09afde-ce09-45e...|   U070|2025-05-09 10:11:10|screen_view|  /product|     desktop|2025-05-09|\n|e1125529-4074-445...|   U044|2025-05-11 12:42:10|      click|    /login|      mobile|2025-05-11|\n|efd279d5-ff66-480...|   U074|2025-05-11 08:01:10|screen_view|     /home|     desktop|2025-05-11|\n|5a2a7167-86bd-4e4...|   U040|2025-05-11 06:48:10|     scroll| /purchase|     desktop|2025-05-11|\n|361c4d88-99c0-418...|   U041|2025-05-09 09:30:10|screen_view|     /cart|      mobile|2025-05-09|\n|420287ee-8a63-43c...|   U048|2025-05-11 04:45:10|      click|     /home|      mobile|2025-05-11|\n|a2845941-9038-4bd...|   U067|2025-05-09 05:57:10|      click| /purchase|      mobile|2025-05-09|\n|376ea5ad-6345-469...|   U087|2025-05-11 05:45:10|screen_view|    /login|     desktop|2025-05-11|\n+--------------------+-------+-------------------+-----------+----------+------------+----------+\nonly showing top 20 rows\n\n"
     ]
    }
   ],
   "source": [
    "business_events = spark.table(\"db_experiments.business_events\")\n",
    "\n",
    "business_events.show()"
   ]
  },
  {
   "cell_type": "code",
   "execution_count": 0,
   "metadata": {
    "application/vnd.databricks.v1+cell": {
     "cellMetadata": {
      "byteLimit": 2048000,
      "rowLimit": 10000
     },
     "inputWidgets": {},
     "nuid": "462c8076-43fb-4217-ac75-1b4cb0a22a55",
     "showTitle": false,
     "tableResultSettingsMap": {},
     "title": ""
    }
   },
   "outputs": [
    {
     "output_type": "stream",
     "name": "stdout",
     "output_type": "stream",
     "text": [
      "Executando métrica para Teste T002: Total de views\n+---------+--------------+-----+\n|test_code|user_variation|value|\n+---------+--------------+-----+\n|     T002|             B| 1906|\n|     T002|             A| 1700|\n+---------+--------------+-----+\n\n+---------+-----------+--------------+---------+------------+-----------+\n|test_code|metric_code|   metric_name|variation|metric_value|metric_date|\n+---------+-----------+--------------+---------+------------+-----------+\n|     T002|       M002|Total de views|        B|        1906| 2025-05-11|\n|     T002|       M002|Total de views|        A|        1700| 2025-05-11|\n+---------+-----------+--------------+---------+------------+-----------+\n\n"
     ]
    }
   ],
   "source": [
    "import json\n",
    "from pyspark.sql.functions import lit\n",
    "\n",
    "for row in df_result.collect():\n",
    "    test_code = row['test_code']\n",
    "    metric_query_json = row['metric_query']\n",
    "    metric_query = json.loads(metric_query_json)['query']  # extrai a string da query\n",
    "\n",
    "    print(f\"Executando métrica para Teste {test_code}: {row['metric_name']}\")\n",
    "\n",
    "    # 1. Filtrar usuários do teste\n",
    "    df_users_test = test_users.filter(test_users.test_code == test_code)\n",
    "\n",
    "    # 2. Fazer left join com business_events\n",
    "    df_joined = df_users_test.join(\n",
    "        business_events,\n",
    "        on=\"user_id\",\n",
    "        how=\"left\"\n",
    "    )\n",
    "\n",
    "    # 3. Registrar como view temporária para rodar SQL\n",
    "    df_joined.createOrReplaceTempView(\"table\")\n",
    "\n",
    "    # 4. Executar a métrica\n",
    "    result_df = spark.sql(metric_query)\n",
    "    result_df.show()\n",
    "\n",
    "    # Suponha que result_df é o resultado da métrica, com colunas:\n",
    "    # test_code | user_variation | value\n",
    "\n",
    "    metric_code = row['metric_code']\n",
    "    metric_name = row['metric_name']\n",
    "    metric_date = datetime.now().strftime('%Y-%m-%d')\n",
    "\n",
    "    # Adicionar as colunas restantes\n",
    "    df_final_metric = result_df.withColumnRenamed(\"user_variation\", \"variation\") \\\n",
    "        .withColumnRenamed(\"value\", \"metric_value\") \\\n",
    "        .withColumn(\"metric_code\", lit(metric_code)) \\\n",
    "        .withColumn(\"metric_name\", lit(metric_name)) \\\n",
    "        .withColumn(\"metric_date\", lit(metric_date)) \\\n",
    "        .select(\n",
    "            \"test_code\",\n",
    "            \"metric_code\",\n",
    "            \"metric_name\",\n",
    "            \"variation\",\n",
    "            \"metric_value\",\n",
    "            \"metric_date\"\n",
    "        )\n",
    "\n",
    "    # Exibir resultado final\n",
    "    df_final_metric.show()\n",
    "\n",
    "    df_final_metric.write.mode(\"append\").insertInto(\"db_experiments.metric\")\n",
    "\n"
   ]
  }
 ],
 "metadata": {
  "application/vnd.databricks.v1+notebook": {
   "computePreferences": null,
   "dashboards": [],
   "environmentMetadata": {
    "base_environment": "",
    "environment_version": "2"
   },
   "inputWidgetPreferences": null,
   "language": "python",
   "notebookMetadata": {
    "pythonIndentUnit": 4
   },
   "notebookName": "Metric Notebook",
   "widgets": {}
  },
  "language_info": {
   "name": "python"
  }
 },
 "nbformat": 4,
 "nbformat_minor": 0
}