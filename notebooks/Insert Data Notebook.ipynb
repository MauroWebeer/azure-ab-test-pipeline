{
 "cells": [
  {
   "cell_type": "code",
   "execution_count": 0,
   "metadata": {
    "application/vnd.databricks.v1+cell": {
     "cellMetadata": {
      "byteLimit": 2048000,
      "rowLimit": 10000
     },
     "inputWidgets": {},
     "nuid": "697e6472-07b2-4676-949c-85d978f02ae4",
     "showTitle": false,
     "tableResultSettingsMap": {},
     "title": ""
    }
   },
   "outputs": [
    {
     "output_type": "stream",
     "name": "stdout",
     "output_type": "stream",
     "text": [
      "+------------------------------------+-------+-------------------+-----------+----------+------------+----------+\n|event_id                            |user_id|event_time         |event_name |event_path|event_device|event_date|\n+------------------------------------+-------+-------------------+-----------+----------+------------+----------+\n|f8b7a313-f50c-47f4-8c4a-a5b6a155f5ef|U010   |2025-05-09 18:22:10|screen_view|/home     |mobile      |2025-05-09|\n|a3c65f62-f859-4290-b49c-62861e80a2cb|U073   |2025-05-09 00:35:10|screen_view|/purchase |desktop     |2025-05-09|\n|4059b557-c62b-40ce-98b0-ceab049b15e4|U010   |2025-05-09 02:02:10|click      |/product  |mobile      |2025-05-09|\n|9857a036-f3c4-47c6-97c3-e528496619f5|U027   |2025-05-10 03:34:10|scroll     |/login    |mobile      |2025-05-10|\n|3f65c9ab-3286-4b49-9d15-8a0a7bb093f1|U020   |2025-05-11 12:59:10|scroll     |/cart     |desktop     |2025-05-11|\n|35917623-5da1-42c8-9e89-2ea54e1007c8|U061   |2025-05-10 02:06:10|scroll     |/login    |mobile      |2025-05-10|\n|17cb09d4-98f5-48b5-9499-a466021596d7|U017   |2025-05-09 08:27:10|click      |/home     |mobile      |2025-05-09|\n|f3d3a271-79ab-485d-8c63-f4c20127654c|U072   |2025-05-09 16:29:10|screen_view|/login    |desktop     |2025-05-09|\n|a8bbb742-286d-4469-8307-523f2d826953|U099   |2025-05-11 05:00:10|click      |/product  |mobile      |2025-05-11|\n|9ab5d761-2f00-4d32-8d5a-fe3d65861545|U097   |2025-05-09 05:46:10|scroll     |/product  |mobile      |2025-05-09|\n+------------------------------------+-------+-------------------+-----------+----------+------------+----------+\nonly showing top 10 rows\n\n"
     ]
    }
   ],
   "source": [
    "from pyspark.sql import Row\n",
    "import uuid\n",
    "import random\n",
    "from datetime import datetime, timedelta\n",
    "\n",
    "# Parâmetros\n",
    "num_users = 100\n",
    "num_events = 10000  # número total de eventos\n",
    "\n",
    "# Opções\n",
    "event_names = [\"screen_view\", \"click\", \"scroll\"]\n",
    "event_paths = [\"/login\", \"/home\", \"/product\", \"/cart\", \"/purchase\"]\n",
    "event_devices = [\"mobile\", \"desktop\"]\n",
    "\n",
    "# Gerar os dados\n",
    "data = []\n",
    "for _ in range(num_events):\n",
    "    event_id = str(uuid.uuid4())\n",
    "    user_id = f\"U{random.randint(1, num_users):03d}\"\n",
    "    event_name = random.choice(event_names)\n",
    "    event_path = random.choice(event_paths)\n",
    "    event_device = random.choice(event_devices)\n",
    "\n",
    "    # Timestamp até 3 dias atrás\n",
    "    days_ago = random.randint(0, 2)\n",
    "    time_offset = timedelta(days=days_ago, hours=random.randint(0, 23), minutes=random.randint(0, 59))\n",
    "    event_time_dt = datetime.now() - time_offset\n",
    "    event_time = event_time_dt.strftime('%Y-%m-%d %H:%M:%S')\n",
    "    event_date = event_time_dt.strftime('%Y-%m-%d')  # <- corrigido aqui\n",
    "\n",
    "    data.append(Row(\n",
    "        event_id=event_id,\n",
    "        user_id=user_id,\n",
    "        event_time=event_time,\n",
    "        event_name=event_name,\n",
    "        event_path=event_path,\n",
    "        event_device=event_device,\n",
    "        event_date=event_date\n",
    "    ))\n",
    "\n",
    "# Criar DataFrame\n",
    "df = spark.createDataFrame(data)\n",
    "\n",
    "# Exibir amostra\n",
    "df.show(10, truncate=False)\n"
   ]
  },
  {
   "cell_type": "code",
   "execution_count": 0,
   "metadata": {
    "application/vnd.databricks.v1+cell": {
     "cellMetadata": {
      "byteLimit": 2048000,
      "rowLimit": 10000
     },
     "inputWidgets": {},
     "nuid": "a7449d52-0f74-4021-a213-3d97d1975c1c",
     "showTitle": false,
     "tableResultSettingsMap": {},
     "title": ""
    }
   },
   "outputs": [
    {
     "output_type": "stream",
     "name": "stdout",
     "output_type": "stream",
     "text": [
      "+--------------------+-------+-------------------+-----------+----------+------------+----------+\n|            event_id|user_id|         event_time| event_name|event_path|event_device|event_date|\n+--------------------+-------+-------------------+-----------+----------+------------+----------+\n|f8b7a313-f50c-47f...|   U010|2025-05-09 18:22:10|screen_view|     /home|      mobile|2025-05-09|\n|a3c65f62-f859-429...|   U073|2025-05-09 00:35:10|screen_view| /purchase|     desktop|2025-05-09|\n|4059b557-c62b-40c...|   U010|2025-05-09 02:02:10|      click|  /product|      mobile|2025-05-09|\n|9857a036-f3c4-47c...|   U027|2025-05-10 03:34:10|     scroll|    /login|      mobile|2025-05-10|\n|3f65c9ab-3286-4b4...|   U020|2025-05-11 12:59:10|     scroll|     /cart|     desktop|2025-05-11|\n|35917623-5da1-42c...|   U061|2025-05-10 02:06:10|     scroll|    /login|      mobile|2025-05-10|\n|17cb09d4-98f5-48b...|   U017|2025-05-09 08:27:10|      click|     /home|      mobile|2025-05-09|\n|f3d3a271-79ab-485...|   U072|2025-05-09 16:29:10|screen_view|    /login|     desktop|2025-05-09|\n|a8bbb742-286d-446...|   U099|2025-05-11 05:00:10|      click|  /product|      mobile|2025-05-11|\n|9ab5d761-2f00-4d3...|   U097|2025-05-09 05:46:10|     scroll|  /product|      mobile|2025-05-09|\n|388281c0-797f-458...|   U043|2025-05-10 00:22:10|screen_view|    /login|     desktop|2025-05-10|\n|43b3fd72-69b9-49b...|   U039|2025-05-11 13:15:10|      click|  /product|      mobile|2025-05-11|\n|9102dc18-9f60-4c1...|   U047|2025-05-11 01:34:10|     scroll|     /home|      mobile|2025-05-11|\n|fb785a58-f8d7-49d...|   U017|2025-05-09 04:31:10|screen_view|     /cart|     desktop|2025-05-09|\n|f6507121-f0c5-486...|   U035|2025-05-10 10:20:10|screen_view|    /login|     desktop|2025-05-10|\n|ad5b4e4a-2fb7-412...|   U052|2025-05-10 06:20:10|screen_view|     /home|      mobile|2025-05-10|\n|8bf209da-e09f-427...|   U033|2025-05-11 08:37:10|     scroll| /purchase|     desktop|2025-05-11|\n|c7efb64b-bb0c-490...|   U005|2025-05-09 00:24:10|      click|     /cart|     desktop|2025-05-09|\n|e1281266-9ad7-46d...|   U045|2025-05-10 10:57:10|      click|  /product|     desktop|2025-05-10|\n|80fa325b-f1b1-425...|   U017|2025-05-10 09:56:10|      click|  /product|      mobile|2025-05-10|\n+--------------------+-------+-------------------+-----------+----------+------------+----------+\nonly showing top 20 rows\n\n"
     ]
    }
   ],
   "source": [
    "from pyspark.sql.functions import col\n",
    "\n",
    "# Convertendo a coluna 'event_time' para TIMESTAMP\n",
    "df = df.withColumn(\"event_time\", col(\"event_time\").cast(\"timestamp\"))\n",
    "\n",
    "df.show()"
   ]
  },
  {
   "cell_type": "code",
   "execution_count": 0,
   "metadata": {
    "application/vnd.databricks.v1+cell": {
     "cellMetadata": {
      "byteLimit": 2048000,
      "rowLimit": 10000
     },
     "inputWidgets": {},
     "nuid": "39ed222d-0fc7-4c3b-8bdb-905fa190b187",
     "showTitle": false,
     "tableResultSettingsMap": {},
     "title": ""
    }
   },
   "outputs": [],
   "source": [
    "# Escrever os dados na tabela \"business_events\"\n",
    "df.write.mode(\"append\").insertInto(\"db_experiments.business_events\")"
   ]
  },
  {
   "cell_type": "code",
   "execution_count": 0,
   "metadata": {
    "application/vnd.databricks.v1+cell": {
     "cellMetadata": {
      "byteLimit": 2048000,
      "rowLimit": 10000
     },
     "inputWidgets": {},
     "nuid": "3cfbf020-e64c-44fe-af37-cd0c4f6f6b1a",
     "showTitle": false,
     "tableResultSettingsMap": {},
     "title": ""
    }
   },
   "outputs": [
    {
     "output_type": "stream",
     "name": "stdout",
     "output_type": "stream",
     "text": [
      "+--------------------+-------+---------+--------------+----------+\n|            event_id|user_id|test_code|user_variation|event_date|\n+--------------------+-------+---------+--------------+----------+\n|bf9d94f7-7150-402...|   U001|     T001|             B|2025-05-09|\n|9f164ae6-15bb-4de...|   U001|     T001|             B|2025-05-11|\n|513b1183-bad6-405...|   U001|     T002|             A|2025-05-09|\n|494b07d0-53d2-4a9...|   U001|     T002|             A|2025-05-10|\n+--------------------+-------+---------+--------------+----------+\n\n"
     ]
    }
   ],
   "source": [
    "from pyspark.sql import Row\n",
    "import uuid\n",
    "import random\n",
    "from datetime import datetime, timedelta\n",
    "from pyspark.sql import SparkSession\n",
    "\n",
    "spark = SparkSession.builder.getOrCreate()\n",
    "\n",
    "# Parâmetros\n",
    "num_users = 100\n",
    "test_codes = [\"T001\", \"T002\"]\n",
    "variations = [\"A\", \"B\"]\n",
    "events_per_user_test = 2  # Quantidade de eventos por combinação\n",
    "\n",
    "# Etapa 1: definir user_variation única por user/test_code\n",
    "user_test_variations = []\n",
    "for user_num in range(1, num_users + 1):\n",
    "    user_id = f\"U{user_num:03d}\"\n",
    "    for test_code in test_codes:\n",
    "        variation = random.choice(variations)\n",
    "        user_test_variations.append((user_id, test_code, variation))\n",
    "\n",
    "# Etapa 2: gerar eventos com variação consistente\n",
    "data = []\n",
    "for user_id, test_code, variation in user_test_variations:\n",
    "    for _ in range(events_per_user_test):\n",
    "        event_id = str(uuid.uuid4())\n",
    "        days_ago = random.randint(0, 2)\n",
    "        event_date_dt = datetime.now() - timedelta(days=days_ago)\n",
    "        event_date = event_date_dt.strftime('%Y-%m-%d')\n",
    "\n",
    "        data.append(Row(\n",
    "            event_id=event_id,\n",
    "            user_id=user_id,\n",
    "            test_code=test_code,\n",
    "            user_variation=variation,\n",
    "            event_date=event_date\n",
    "        ))\n",
    "\n",
    "# Criar DataFrame\n",
    "df_events = spark.createDataFrame(data)\n",
    "\n",
    "df_events.filter(df_events.user_id == \"U001\").show()"
   ]
  },
  {
   "cell_type": "code",
   "execution_count": 0,
   "metadata": {
    "application/vnd.databricks.v1+cell": {
     "cellMetadata": {
      "byteLimit": 2048000,
      "rowLimit": 10000
     },
     "inputWidgets": {},
     "nuid": "dd787dd8-efc0-45ba-8633-f16343b56dd2",
     "showTitle": false,
     "tableResultSettingsMap": {},
     "title": ""
    }
   },
   "outputs": [],
   "source": [
    "df_events.write.mode(\"append\").insertInto(\"db_experiments.platform_events\")\n"
   ]
  }
 ],
 "metadata": {
  "application/vnd.databricks.v1+notebook": {
   "computePreferences": null,
   "dashboards": [],
   "environmentMetadata": {
    "base_environment": "",
    "environment_version": "2"
   },
   "inputWidgetPreferences": null,
   "language": "python",
   "notebookMetadata": {
    "pythonIndentUnit": 4
   },
   "notebookName": "Insert Data Notebook",
   "widgets": {}
  },
  "language_info": {
   "name": "python"
  }
 },
 "nbformat": 4,
 "nbformat_minor": 0
}